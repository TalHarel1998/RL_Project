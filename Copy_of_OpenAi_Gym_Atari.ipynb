{
  "nbformat": 4,
  "nbformat_minor": 0,
  "metadata": {
    "colab": {
      "provenance": [],
      "gpuType": "T4",
      "machine_shape": "hm",
      "include_colab_link": true
    },
    "kernelspec": {
      "name": "python3",
      "display_name": "Python 3"
    },
    "accelerator": "GPU"
  },
  "cells": [
    {
      "cell_type": "markdown",
      "metadata": {
        "id": "view-in-github",
        "colab_type": "text"
      },
      "source": [
        "<a href=\"https://colab.research.google.com/github/TalHarel1998/RL_Project/blob/main/Copy_of_OpenAi_Gym_Atari.ipynb\" target=\"_parent\"><img src=\"https://colab.research.google.com/assets/colab-badge.svg\" alt=\"Open In Colab\"/></a>"
      ]
    },
    {
      "cell_type": "markdown",
      "metadata": {
        "id": "odNaDE1zyrL2"
      },
      "source": [
        "# install dependancies, takes around 45 seconds\n",
        "\n",
        "Rendering Dependancies\n",
        "\n"
      ]
    },
    {
      "cell_type": "code",
      "metadata": {
        "id": "8-AxnvAVyzQQ"
      },
      "source": [
        "#add \" > /dev/null 2>&1\" at the end of each command to ignore output\n",
        "!pip install gym pyvirtualdisplay\n",
        "!apt-get install -y xvfb python-opengl ffmpeg"
      ],
      "execution_count": null,
      "outputs": []
    },
    {
      "cell_type": "markdown",
      "metadata": {
        "id": "8A-1LTSH88EE"
      },
      "source": [
        "Dependancies"
      ]
    },
    {
      "cell_type": "code",
      "metadata": {
        "id": "TCelFzWY9MBI"
      },
      "source": [
        "!apt-get update\n",
        "!pip install --upgrade setuptools\n",
        "!pip install \"gym[atari]\"==0.9.5\n",
        "!pip install opencv-python\n",
        "!pip install torch\n",
        "!pip install matplotlib"
      ],
      "execution_count": null,
      "outputs": []
    },
    {
      "cell_type": "code",
      "metadata": {
        "id": "r_FO_RkC3aBA"
      },
      "source": [
        "# ERRORS CAN BE IGNORED! all the dependency conflicts are \"won\" by gym!\n",
        "# (maybe because of the --force parameter ?)\n",
        "\n",
        "!pip install --force \"gym[atari]\"==0.9.5"
      ],
      "execution_count": null,
      "outputs": []
    },
    {
      "cell_type": "code",
      "metadata": {
        "id": "Vmls-nMlGgDE"
      },
      "source": [
        "# download, extract & import all available ROMs to gym \n",
        "!curl http://www.atarimania.com/roms/Roms.rar -o Roms.rar\n",
        "!unrar x Roms.rar\n",
        "!python -m atari_py.import_roms ./"
      ],
      "execution_count": null,
      "outputs": []
    },
    {
      "cell_type": "code",
      "source": [
        "%cd /content\n",
        "!rm -rf RL_Project\n",
        "!git clone https://github.com/TalHarel1998/RL_Project.git\n",
        "%cd /content/RL_Project/dqn"
      ],
      "metadata": {
        "id": "vq3j5xh2ZNvY"
      },
      "execution_count": null,
      "outputs": []
    },
    {
      "cell_type": "markdown",
      "metadata": {
        "id": "W3BGbWOu179M"
      },
      "source": [
        "# Pong"
      ]
    },
    {
      "cell_type": "code",
      "source": [
        "from google.colab import drive\n",
        "drive.mount('/content/drive')"
      ],
      "metadata": {
        "colab": {
          "base_uri": "https://localhost:8080/"
        },
        "id": "9Y-SHImCv_7G",
        "outputId": "265d0405-9e53-45b7-8e8f-7f2687cc665d"
      },
      "execution_count": 6,
      "outputs": [
        {
          "output_type": "stream",
          "name": "stdout",
          "text": [
            "Mounted at /content/drive\n"
          ]
        }
      ]
    },
    {
      "cell_type": "code",
      "source": [
        "!rm -r tmp\n",
        "!rm old_statistics.pkl\n",
        "!rm old_stats.pkl\n",
        "!mv statistics.pkl old_statistics.pkl\n",
        "!mv stats.pkl old_stats.pkl\n",
        "!python main.py"
      ],
      "metadata": {
        "id": "F9ixh0MuGe9P"
      },
      "execution_count": null,
      "outputs": []
    },
    {
      "cell_type": "code",
      "source": [
        "# !python main.py 0.6\n",
        "# !rm -r tmp\n",
        "# !mv statistics.pkl statistics_06.pkl\n",
        "# !cp statistics_06.pkl /content/drive/MyDrive/statistics_06.pkl\n",
        "\n",
        "# !python main.py 0.8\n",
        "# !rm -r tmp\n",
        "# !mv statistics.pkl statistics_08.pkl\n",
        "# !cp statistics_08.pkl /content/drive/MyDrive/statistics_08.pkl\n",
        "\n",
        "# !python main.py 0.9\n",
        "# !rm -r tmp\n",
        "# !mv statistics.pkl statistics_09.pkl\n",
        "# !cp statistics_09.pkl /content/drive/MyDrive/statistics_09.pkl\n",
        "\n",
        "!python main.py 0.95\n",
        "!rm -r tmp\n",
        "!mv statistics.pkl statistics_095.pkl\n",
        "!cp statistics_095.pkl /content/drive/MyDrive/statistics_095.pkl"
      ],
      "metadata": {
        "id": "e_dWl_CD3AQ8"
      },
      "execution_count": null,
      "outputs": []
    }
  ]
}